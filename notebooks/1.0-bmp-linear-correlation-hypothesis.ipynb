{
 "cells": [
  {
   "cell_type": "code",
   "execution_count": 2,
   "metadata": {},
   "outputs": [
    {
     "data": {
      "text/plain": [
       "True"
      ]
     },
     "execution_count": 2,
     "metadata": {},
     "output_type": "execute_result"
    }
   ],
   "source": [
    "from pathlib import Path\n",
    "\n",
    "import matplotlib.pyplot as plt\n",
    "import numpy as np\n",
    "import pandas as pd\n",
    "\n",
    "from scipy import stats\n",
    "\n",
    "data_dir = Path('../data').resolve()\n",
    "data_dir.exists()"
   ]
  },
  {
   "cell_type": "code",
   "execution_count": 4,
   "metadata": {},
   "outputs": [
    {
     "data": {
      "text/html": [
       "<div>\n",
       "<style scoped>\n",
       "    .dataframe tbody tr th:only-of-type {\n",
       "        vertical-align: middle;\n",
       "    }\n",
       "\n",
       "    .dataframe tbody tr th {\n",
       "        vertical-align: top;\n",
       "    }\n",
       "\n",
       "    .dataframe thead th {\n",
       "        text-align: right;\n",
       "    }\n",
       "</style>\n",
       "<table border=\"1\" class=\"dataframe\">\n",
       "  <thead>\n",
       "    <tr style=\"text-align: right;\">\n",
       "      <th></th>\n",
       "      <th>OverallQual</th>\n",
       "      <th>YearBuilt</th>\n",
       "      <th>TotRmsAbvGrd</th>\n",
       "      <th>GarageCars</th>\n",
       "      <th>SalePrice</th>\n",
       "    </tr>\n",
       "    <tr>\n",
       "      <th>Id</th>\n",
       "      <th></th>\n",
       "      <th></th>\n",
       "      <th></th>\n",
       "      <th></th>\n",
       "      <th></th>\n",
       "    </tr>\n",
       "  </thead>\n",
       "  <tbody>\n",
       "    <tr>\n",
       "      <th>1</th>\n",
       "      <td>7</td>\n",
       "      <td>2003</td>\n",
       "      <td>8</td>\n",
       "      <td>2</td>\n",
       "      <td>12.247694</td>\n",
       "    </tr>\n",
       "    <tr>\n",
       "      <th>2</th>\n",
       "      <td>6</td>\n",
       "      <td>1976</td>\n",
       "      <td>6</td>\n",
       "      <td>2</td>\n",
       "      <td>12.109011</td>\n",
       "    </tr>\n",
       "    <tr>\n",
       "      <th>3</th>\n",
       "      <td>7</td>\n",
       "      <td>2001</td>\n",
       "      <td>6</td>\n",
       "      <td>2</td>\n",
       "      <td>12.317167</td>\n",
       "    </tr>\n",
       "    <tr>\n",
       "      <th>5</th>\n",
       "      <td>8</td>\n",
       "      <td>2000</td>\n",
       "      <td>9</td>\n",
       "      <td>3</td>\n",
       "      <td>12.429216</td>\n",
       "    </tr>\n",
       "    <tr>\n",
       "      <th>6</th>\n",
       "      <td>5</td>\n",
       "      <td>1993</td>\n",
       "      <td>5</td>\n",
       "      <td>2</td>\n",
       "      <td>11.870600</td>\n",
       "    </tr>\n",
       "  </tbody>\n",
       "</table>\n",
       "</div>"
      ],
      "text/plain": [
       "    OverallQual  YearBuilt  TotRmsAbvGrd  GarageCars  SalePrice\n",
       "Id                                                             \n",
       "1             7       2003             8           2  12.247694\n",
       "2             6       1976             6           2  12.109011\n",
       "3             7       2001             6           2  12.317167\n",
       "5             8       2000             9           3  12.429216\n",
       "6             5       1993             5           2  11.870600"
      ]
     },
     "execution_count": 4,
     "metadata": {},
     "output_type": "execute_result"
    }
   ],
   "source": [
    "df = pd.read_csv(data_dir/'train.csv', index_col='Id')\n",
    "\n",
    "# data section of interest\n",
    "df = df[df['MSZoning'] == 'RL']\n",
    "df = df[df['SaleCondition'] == 'Normal']\n",
    "\n",
    "# target normalization\n",
    "df['SalePrice'] = df['SalePrice'].apply(np.log)\n",
    "\n",
    "# input variables\n",
    "input_variables = ['OverallQual', 'YearBuilt', 'TotRmsAbvGrd', 'GarageCars']\n",
    "df = df[input_variables + ['SalePrice', ]]\n",
    "\n",
    "df.head()"
   ]
  },
  {
   "cell_type": "code",
   "execution_count": 5,
   "metadata": {},
   "outputs": [],
   "source": [
    "alpha = 0.05"
   ]
  },
  {
   "cell_type": "markdown",
   "metadata": {},
   "source": [
    "# Correlation\n",
    "\n",
    "Pearson's linear correlation test."
   ]
  },
  {
   "cell_type": "code",
   "execution_count": 6,
   "metadata": {},
   "outputs": [
    {
     "data": {
      "text/plain": [
       "TotRmsAbvGrd    0.558417\n",
       "YearBuilt       0.576022\n",
       "GarageCars      0.668399\n",
       "OverallQual     0.835257\n",
       "Name: SalePrice, dtype: float64"
      ]
     },
     "execution_count": 6,
     "metadata": {},
     "output_type": "execute_result"
    }
   ],
   "source": [
    "corrs = df.corr('pearson')['SalePrice'].sort_values()[:-1]\n",
    "corrs"
   ]
  },
  {
   "cell_type": "markdown",
   "metadata": {},
   "source": [
    "All have (apparently) a mild correlation, except for OverallQual, that has a strong correlation.\n",
    "\n",
    "## Confidence intervals"
   ]
  },
  {
   "cell_type": "code",
   "execution_count": 7,
   "metadata": {},
   "outputs": [
    {
     "data": {
      "text/plain": [
       "TotRmsAbvGrd    [0.5131574554784188, 0.6005788383928516]\n",
       "YearBuilt       [0.5320255704916634, 0.6169166042783123]\n",
       "GarageCars       [0.6317481525272429, 0.702067324252386]\n",
       "OverallQual     [0.8150033966782022, 0.8534715878375436]\n",
       "Name: SalePrice, dtype: object"
      ]
     },
     "execution_count": 7,
     "metadata": {},
     "output_type": "execute_result"
    }
   ],
   "source": [
    "def confidence_interval(r, alpha=0.05, n=df.shape[0]):\n",
    "    # from https://zhiyzuo.github.io/Pearson-Correlation-CI-in-Python/\n",
    "    z = np.arctanh(r)\n",
    "    z_alpha = stats.norm.ppf(1 - alpha/2)\n",
    "\n",
    "    se = 1 / np.sqrt(n - 3)\n",
    "\n",
    "    a, b = z - z_alpha * se, z + z_alpha * se\n",
    "\n",
    "    return np.tanh((a, b))\n",
    "\n",
    "cis = corrs.apply(confidence_interval)\n",
    "cis"
   ]
  },
  {
   "cell_type": "code",
   "execution_count": 8,
   "metadata": {},
   "outputs": [
    {
     "data": {
      "text/html": [
       "<div>\n",
       "<style scoped>\n",
       "    .dataframe tbody tr th:only-of-type {\n",
       "        vertical-align: middle;\n",
       "    }\n",
       "\n",
       "    .dataframe tbody tr th {\n",
       "        vertical-align: top;\n",
       "    }\n",
       "\n",
       "    .dataframe thead th {\n",
       "        text-align: right;\n",
       "    }\n",
       "</style>\n",
       "<table border=\"1\" class=\"dataframe\">\n",
       "  <thead>\n",
       "    <tr style=\"text-align: right;\">\n",
       "      <th></th>\n",
       "      <th>low</th>\n",
       "      <th>corr</th>\n",
       "      <th>high</th>\n",
       "    </tr>\n",
       "  </thead>\n",
       "  <tbody>\n",
       "    <tr>\n",
       "      <th>TotRmsAbvGrd</th>\n",
       "      <td>0.513157</td>\n",
       "      <td>0.558417</td>\n",
       "      <td>0.600579</td>\n",
       "    </tr>\n",
       "    <tr>\n",
       "      <th>YearBuilt</th>\n",
       "      <td>0.532026</td>\n",
       "      <td>0.576022</td>\n",
       "      <td>0.616917</td>\n",
       "    </tr>\n",
       "    <tr>\n",
       "      <th>GarageCars</th>\n",
       "      <td>0.631748</td>\n",
       "      <td>0.668399</td>\n",
       "      <td>0.702067</td>\n",
       "    </tr>\n",
       "    <tr>\n",
       "      <th>OverallQual</th>\n",
       "      <td>0.815003</td>\n",
       "      <td>0.835257</td>\n",
       "      <td>0.853472</td>\n",
       "    </tr>\n",
       "  </tbody>\n",
       "</table>\n",
       "</div>"
      ],
      "text/plain": [
       "                   low      corr      high\n",
       "TotRmsAbvGrd  0.513157  0.558417  0.600579\n",
       "YearBuilt     0.532026  0.576022  0.616917\n",
       "GarageCars    0.631748  0.668399  0.702067\n",
       "OverallQual   0.815003  0.835257  0.853472"
      ]
     },
     "execution_count": 8,
     "metadata": {},
     "output_type": "execute_result"
    }
   ],
   "source": [
    "df_corr = pd.DataFrame([cis.apply(lambda x: x[0]), cis.apply(lambda x: x[1])]).T\n",
    "df_corr.columns = ['low', 'high']\n",
    "df_corr['corr'] = corrs\n",
    "df_corr[['low', 'corr', 'high']]"
   ]
  },
  {
   "cell_type": "markdown",
   "metadata": {},
   "source": [
    "The `LotArea` variable presents indeed a low correlation. `OverallQual` has a strong correlation. The others are safely within the mild correlation zone."
   ]
  },
  {
   "cell_type": "markdown",
   "metadata": {},
   "source": [
    "# Hypothesis tests"
   ]
  },
  {
   "cell_type": "code",
   "execution_count": 9,
   "metadata": {},
   "outputs": [],
   "source": [
    "t_alpha = 1.962"
   ]
  },
  {
   "cell_type": "code",
   "execution_count": 10,
   "metadata": {},
   "outputs": [
    {
     "data": {
      "text/plain": [
       "TotRmsAbvGrd    20.780529\n",
       "YearBuilt       21.753685\n",
       "GarageCars      27.741111\n",
       "OverallQual     46.893649\n",
       "Name: corr, dtype: float64"
      ]
     },
     "execution_count": 10,
     "metadata": {},
     "output_type": "execute_result"
    }
   ],
   "source": [
    "def t(r, n=df.shape[0]):\n",
    "    return r * np.sqrt(n - 2) / np.sqrt(1 - r * r)\n",
    "\n",
    "df_corr['corr'].apply(t)"
   ]
  },
  {
   "cell_type": "markdown",
   "metadata": {},
   "source": [
    "We can negate the null-hypothesis for all of the input variables with 95\\% confidence."
   ]
  }
 ],
 "metadata": {
  "kernelspec": {
   "display_name": "Python [conda env:ames]",
   "language": "python",
   "name": "conda-env-ames-py"
  },
  "language_info": {
   "codemirror_mode": {
    "name": "ipython",
    "version": 3
   },
   "file_extension": ".py",
   "mimetype": "text/x-python",
   "name": "python",
   "nbconvert_exporter": "python",
   "pygments_lexer": "ipython3",
   "version": "3.10.2"
  }
 },
 "nbformat": 4,
 "nbformat_minor": 4
}
